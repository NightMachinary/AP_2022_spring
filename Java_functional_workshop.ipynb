{
 "cells": [
  {
   "cell_type": "markdown",
   "id": "8b7280ec",
   "metadata": {},
   "source": [
    "Docs:\n",
    "- [IntStream.forEach](https://docs.oracle.com/javase/8/docs/api/java/util/stream/IntStream.html#forEach-java.util.function.IntConsumer-)\n",
    "- [IntStream.peek](https://docs.oracle.com/javase/8/docs/api/java/util/stream/IntStream.html#peek-java.util.function.IntConsumer-)\n",
    "- [ArrayList.forEach](https://docs.oracle.com/javase/8/docs/api/java/util/ArrayList.html#forEach-java.util.function.Consumer-)\n",
    "- [the Consumer interface](https://docs.oracle.com/javase/8/docs/api/java/util/function/Consumer.html)\n",
    "- [the Function interface](https://docs.oracle.com/javase/8/docs/api/java/util/function/Function.html)\n",
    "- [the Comparator interface](https://docs.oracle.com/en/java/javase/11/docs/api/java.base/java/util/Comparator.html)\n",
    "- [Stream.map](https://docs.oracle.com/javase/8/docs/api/java/util/stream/Stream.html#map-java.util.function.Function-)\n",
    "- [List.sort](https://docs.oracle.com/en/java/javase/11/docs/api/java.base/java/util/List.html#sort(java.util.Comparator))"
   ]
  },
  {
   "cell_type": "code",
   "execution_count": 30,
   "id": "6d54ce9c",
   "metadata": {},
   "outputs": [
    {
     "data": {
      "text/plain": [
       "java.util.stream.IntPipeline$Head@489b1d29"
      ]
     },
     "execution_count": 30,
     "metadata": {},
     "output_type": "execute_result"
    }
   ],
   "source": [
    "var arange = IntStream.range(0, 10)"
   ]
  },
  {
   "cell_type": "code",
   "execution_count": 31,
   "id": "5c6428d2",
   "metadata": {},
   "outputs": [
    {
     "data": {
      "text/plain": [
       "[0, 1, 2, 3, 4, 5, 6, 7, 8, 9]"
      ]
     },
     "execution_count": 31,
     "metadata": {},
     "output_type": "execute_result"
    }
   ],
   "source": [
    "var arangeList = arange.boxed().collect(Collectors.toList()); // converting the IntStream to a normal (boxed) stream, then converting it to a List\n",
    "arangeList;"
   ]
  },
  {
   "cell_type": "code",
   "execution_count": 36,
   "id": "30e5fb41",
   "metadata": {},
   "outputs": [
    {
     "name": "stdout",
     "output_type": "stream",
     "text": [
      "0\n",
      "1\n",
      "2\n",
      "3\n",
      "4\n",
      "5\n",
      "6\n",
      "7\n",
      "8\n",
      "9\n"
     ]
    },
    {
     "data": {
      "text/plain": [
       "null"
      ]
     },
     "execution_count": 36,
     "metadata": {},
     "output_type": "execute_result"
    }
   ],
   "source": [
    "Consumer fn = (x) -> System.out.println(x);\n",
    "arangeList.forEach(fn); "
   ]
  },
  {
   "cell_type": "markdown",
   "id": "751487f5",
   "metadata": {},
   "source": [
    "Type inference will be done automatically if the lambda expression is used directly in a method call (as the compiler knows the type signature needed):"
   ]
  },
  {
   "cell_type": "code",
   "execution_count": 37,
   "id": "7ad6bee0",
   "metadata": {},
   "outputs": [
    {
     "name": "stdout",
     "output_type": "stream",
     "text": [
      "0\n",
      "1\n",
      "2\n",
      "3\n",
      "4\n",
      "5\n",
      "6\n",
      "7\n",
      "8\n",
      "9\n"
     ]
    },
    {
     "data": {
      "text/plain": [
       "null"
      ]
     },
     "execution_count": 37,
     "metadata": {},
     "output_type": "execute_result"
    }
   ],
   "source": [
    "arangeList.forEach((x) -> System.out.println(x)); "
   ]
  },
  {
   "cell_type": "markdown",
   "id": "7e5a3371",
   "metadata": {},
   "source": [
    "But the compiler is not smart enough for this kind of type inference:"
   ]
  },
  {
   "cell_type": "code",
   "execution_count": 38,
   "id": "335edbb6",
   "metadata": {},
   "outputs": [
    {
     "ename": "var fn = (x) -> System.out.println(x);",
     "evalue": "var fn = (x) -> System.out.println(x);",
     "output_type": "error",
     "traceback": [
      "\u001b[1;31mvar fn = (x) -> System.out.println(x);\u001b[0;0m",
      "\u001b[1;31mcannot infer type for local variable fn\u001b[0;0m",
      "\u001b[1;31m  (lambda expression needs an explicit target-type)\u001b[0;0m"
     ]
    }
   ],
   "source": [
    "var fn = (x) -> System.out.println(x);\n",
    "arange.forEach(fn);"
   ]
  },
  {
   "cell_type": "markdown",
   "id": "0172b2ef",
   "metadata": {},
   "source": [
    "It's possible to use the general type `Function`, but then it might not be compatible with the functional interface needed by the caller:"
   ]
  },
  {
   "cell_type": "code",
   "execution_count": 43,
   "id": "507ef1b1",
   "metadata": {},
   "outputs": [
    {
     "ename": "",
     "evalue": "",
     "output_type": "error",
     "traceback": [
      "\u001b[1;31m\u001b[0;0m",
      "\u001b[1;31m\u001b[0;0m",
      "\u001b[1;31marangeList.forEach(fn);\u001b[0;0m",
      "\u001b[1;31mincompatible types: java.util.function.Function cannot be converted to java.util.function.Consumer<? super java.lang.Integer>\u001b[0;0m"
     ]
    }
   ],
   "source": [
    "Function fn = (x) -> { \n",
    "    System.out.println(x);\n",
    "    return null;\n",
    "    };\n",
    "\n",
    "arangeList.forEach(fn);"
   ]
  },
  {
   "cell_type": "markdown",
   "id": "fa412a87",
   "metadata": {},
   "source": [
    "Now let's see a pure function that is used for computation instead of side-effects.\n",
    "\n",
    "We first have to convert our `List` to a `Stream`, then convert it back into a `List`. This is because Java's `List` does not have a `map` method."
   ]
  },
  {
   "cell_type": "code",
   "execution_count": 59,
   "id": "229c65f4",
   "metadata": {},
   "outputs": [
    {
     "data": {
      "text/plain": [
       "[0, 10, 20, 30, 40, 50, 60, 70, 80, 90]"
      ]
     },
     "execution_count": 59,
     "metadata": {},
     "output_type": "execute_result"
    }
   ],
   "source": [
    "arangeList.stream().map((x) -> {\n",
    "   return x*10; \n",
    "}).collect(Collectors.toList());"
   ]
  },
  {
   "cell_type": "markdown",
   "id": "da3bd4ce",
   "metadata": {},
   "source": [
    "We can use the generic type `Function` for these; but we will still lose some type information. This causes us to need to cast `x` to `int` explicitly."
   ]
  },
  {
   "cell_type": "code",
   "execution_count": 65,
   "id": "5858a6e7",
   "metadata": {},
   "outputs": [
    {
     "data": {
      "text/plain": [
       "[0, 10, 20, 30, 40, 50, 60, 70, 80, 90]"
      ]
     },
     "execution_count": 65,
     "metadata": {},
     "output_type": "execute_result"
    }
   ],
   "source": [
    "Function fn = (x) -> {\n",
    "    var x_int = (int)x;\n",
    "    return x_int*10;\n",
    "};\n",
    "\n",
    "arangeList.stream().map(fn).collect(Collectors.toList());"
   ]
  },
  {
   "cell_type": "markdown",
   "id": "8578f3aa",
   "metadata": {},
   "source": [
    "Let's define a helper function to run `map` on `List` more concisely:"
   ]
  },
  {
   "cell_type": "code",
   "execution_count": 68,
   "id": "f511391d",
   "metadata": {},
   "outputs": [
    {
     "data": {
      "text/plain": [
       "null"
      ]
     },
     "execution_count": 68,
     "metadata": {},
     "output_type": "execute_result"
    }
   ],
   "source": [
    "List listMap(List lst, Function fn) {\n",
    "    return (List)(lst.stream().map(fn).collect(Collectors.toList()));\n",
    "}"
   ]
  },
  {
   "cell_type": "code",
   "execution_count": 69,
   "id": "c86a4cee",
   "metadata": {},
   "outputs": [
    {
     "data": {
      "text/plain": [
       "[0, 10, 20, 30, 40, 50, 60, 70, 80, 90]"
      ]
     },
     "execution_count": 69,
     "metadata": {},
     "output_type": "execute_result"
    }
   ],
   "source": [
    "Function fn = (x) -> {\n",
    "    var x_int = (int)x;\n",
    "    return x_int*10;\n",
    "};\n",
    "\n",
    "listMap(arangeList, fn);"
   ]
  },
  {
   "cell_type": "markdown",
   "id": "4632cf9c",
   "metadata": {},
   "source": [
    "# Stream functions"
   ]
  },
  {
   "cell_type": "code",
   "execution_count": 106,
   "id": "67db25d1",
   "metadata": {},
   "outputs": [
    {
     "data": {
      "text/plain": [
       "[0, 2, 4, 6, 8]"
      ]
     },
     "execution_count": 106,
     "metadata": {},
     "output_type": "execute_result"
    }
   ],
   "source": [
    "var arange = IntStream.range(0, 10); // We need to recreate this `stream` every time we use it, as it will be \"consumed.\"\n",
    "\n",
    "arange\n",
    "  .filter((x) -> (x % 2 == 0))\n",
    "  .toArray();"
   ]
  },
  {
   "cell_type": "code",
   "execution_count": 110,
   "id": "ce6c1560",
   "metadata": {},
   "outputs": [
    {
     "data": {
      "text/plain": [
       "[2, 4, 6, 8]"
      ]
     },
     "execution_count": 110,
     "metadata": {},
     "output_type": "execute_result"
    }
   ],
   "source": [
    "var arange = IntStream.range(0, 10); \n",
    "arange\n",
    "  .filter((x) -> (x % 2 == 0))\n",
    "  .filter((x) -> (x > 0))\n",
    "  .toArray();"
   ]
  },
  {
   "cell_type": "code",
   "execution_count": 113,
   "id": "d390c6cd",
   "metadata": {},
   "outputs": [
    {
     "data": {
      "text/plain": [
       "[6, 12, 18, 24]"
      ]
     },
     "execution_count": 113,
     "metadata": {},
     "output_type": "execute_result"
    }
   ],
   "source": [
    "var arange = IntStream.range(0, 10); \n",
    "arange\n",
    "  .filter((x) -> (x % 2 == 0))\n",
    "  .filter((x) -> (x > 0))\n",
    "  .map((x) -> x*3)\n",
    "  .toArray();"
   ]
  },
  {
   "cell_type": "code",
   "execution_count": 121,
   "id": "ffaf8a8a",
   "metadata": {},
   "outputs": [
    {
     "data": {
      "text/plain": [
       "60"
      ]
     },
     "execution_count": 121,
     "metadata": {},
     "output_type": "execute_result"
    }
   ],
   "source": [
    "var arange = IntStream.range(0, 10); \n",
    "\n",
    "arange\n",
    "  .filter((x) -> (x % 2 == 0))\n",
    "  .filter((x) -> (x > 0))\n",
    "  .map((x) -> x*3)\n",
    "  .reduce(0, (a, b) -> a+b); // https://docs.oracle.com/javase/8/docs/api/java/util/stream/IntStream.html#reduce-int-java.util.function.IntBinaryOperator-"
   ]
  },
  {
   "cell_type": "markdown",
   "id": "f3e8729e",
   "metadata": {},
   "source": [
    "We could also use the function reference `Integer::sum` for the last reduction:"
   ]
  },
  {
   "cell_type": "code",
   "execution_count": 123,
   "id": "523b1c2b",
   "metadata": {},
   "outputs": [
    {
     "data": {
      "text/plain": [
       "19"
      ]
     },
     "execution_count": 123,
     "metadata": {},
     "output_type": "execute_result"
    }
   ],
   "source": [
    "Integer.sum(8,11); // an example"
   ]
  },
  {
   "cell_type": "code",
   "execution_count": 122,
   "id": "741e01a3",
   "metadata": {},
   "outputs": [
    {
     "data": {
      "text/plain": [
       "60"
      ]
     },
     "execution_count": 122,
     "metadata": {},
     "output_type": "execute_result"
    }
   ],
   "source": [
    "var arange = IntStream.range(0, 10); \n",
    "\n",
    "arange\n",
    "  .filter((x) -> (x % 2 == 0))\n",
    "  .filter((x) -> (x > 0))\n",
    "  .map((x) -> x*3)\n",
    "  .reduce(0, Integer::sum);"
   ]
  },
  {
   "cell_type": "markdown",
   "id": "2310877d",
   "metadata": {},
   "source": [
    "# Function composition"
   ]
  },
  {
   "cell_type": "markdown",
   "id": "d034c670",
   "metadata": {},
   "source": [
    "## Composing functions returning Void (i.e., running functions for their side-effects)"
   ]
  },
  {
   "cell_type": "code",
   "execution_count": 48,
   "id": "e807c281",
   "metadata": {},
   "outputs": [
    {
     "data": {
      "text/plain": [
       "null"
      ]
     },
     "execution_count": 48,
     "metadata": {},
     "output_type": "execute_result"
    }
   ],
   "source": [
    "Consumer consumer_sequential_combination(List<Consumer> consumers) {\n",
    "    return (x) -> {\n",
    "        consumers.forEach((consumer) -> consumer.accept(x)); \n",
    "        // We looked at the docs to know that this interface uses the name `accept` for its \"main\" method.\n",
    "    };\n",
    "}"
   ]
  },
  {
   "cell_type": "code",
   "execution_count": 54,
   "id": "07e12bc9",
   "metadata": {},
   "outputs": [
    {
     "name": "stdout",
     "output_type": "stream",
     "text": [
      "0\n",
      "0\n",
      "#####\n",
      "1\n",
      "2\n",
      "#####\n",
      "2\n",
      "4\n",
      "#####\n",
      "3\n",
      "6\n",
      "#####\n",
      "4\n",
      "8\n",
      "#####\n",
      "5\n",
      "10\n",
      "#####\n",
      "6\n",
      "12\n",
      "#####\n",
      "7\n",
      "14\n",
      "#####\n",
      "8\n",
      "16\n",
      "#####\n",
      "9\n",
      "18\n",
      "#####\n"
     ]
    },
    {
     "data": {
      "text/plain": [
       "null"
      ]
     },
     "execution_count": 54,
     "metadata": {},
     "output_type": "execute_result"
    }
   ],
   "source": [
    "Consumer fn_print = (x) -> System.out.println(x);\n",
    "Consumer fn_double_print = (x) -> {\n",
    "    int x_int = (int)x;\n",
    "    System.out.println(x_int*2);\n",
    "};\n",
    "Consumer fn_print_sep = (x) -> System.out.println(\"#####\");\n",
    "\n",
    "Consumer fn_all = consumer_sequential_combination(Arrays.asList(fn_print, fn_double_print, fn_print_sep));\n",
    "\n",
    "arangeList.forEach(fn_all); "
   ]
  },
  {
   "cell_type": "markdown",
   "id": "d4e2ad3a",
   "metadata": {},
   "source": [
    "Exercise: Create `consumer_parallel_combination` that runs its consumers in parallel."
   ]
  },
  {
   "cell_type": "markdown",
   "id": "578733b0",
   "metadata": {},
   "source": [
    "## Composing pure functions returning results"
   ]
  },
  {
   "cell_type": "code",
   "execution_count": 80,
   "id": "c4d93375",
   "metadata": {},
   "outputs": [
    {
     "data": {
      "text/plain": [
       "null"
      ]
     },
     "execution_count": 80,
     "metadata": {},
     "output_type": "execute_result"
    }
   ],
   "source": [
    "Function fn_compose(List<Function> functions) {\n",
    "    return (x) -> {\n",
    "        Object res = x;\n",
    "        for (Function fn : functions) {\n",
    "            res = fn.apply(res);\n",
    "            // https://docs.oracle.com/javase/8/docs/api/java/util/function/Function.html\n",
    "        }\n",
    "        return res;\n",
    "    };\n",
    "}"
   ]
  },
  {
   "cell_type": "code",
   "execution_count": 90,
   "id": "a8bddc8e",
   "metadata": {},
   "outputs": [
    {
     "data": {
      "text/plain": [
       "[3, 13, 23, 33, 43, 53, 63, 73, 83, 93]"
      ]
     },
     "execution_count": 90,
     "metadata": {},
     "output_type": "execute_result"
    }
   ],
   "source": [
    "Function fn_double = (x) -> {\n",
    "    var x_int = (int)x;\n",
    "    return x_int * 10;\n",
    "};\n",
    "\n",
    "Function fn_inc = (x) -> {\n",
    "    var x_int = (int)x;\n",
    "    return x_int + 1;\n",
    "};\n",
    "\n",
    "Function fn_all = fn_compose(Arrays.asList(fn_double, fn_inc, fn_inc, fn_inc));\n",
    "\n",
    "listMap(arangeList, fn_all);"
   ]
  },
  {
   "cell_type": "markdown",
   "id": "9264e10c",
   "metadata": {},
   "source": [
    "# Using lambdas for sorting"
   ]
  },
  {
   "cell_type": "code",
   "execution_count": 100,
   "id": "e66238ca",
   "metadata": {},
   "outputs": [
    {
     "data": {
      "text/plain": [
       "[3, 0, 1, 2, 4, 5, 6, 7, 8, 9]"
      ]
     },
     "execution_count": 100,
     "metadata": {},
     "output_type": "execute_result"
    }
   ],
   "source": [
    "arangeList.sort((a, b) -> {\n",
    "   if (a == 3) {\n",
    "       return -1; // '3' is smaller than everything else.\n",
    "   } else if (b == 3) {\n",
    "       return 1; // everything is bigger than '3'.\n",
    "   } else if (a < b) {\n",
    "       return -1;\n",
    "   } else if (a == b) {\n",
    "       return 0;\n",
    "   } else {\n",
    "       return 1;\n",
    "   }\n",
    "});\n",
    "\n",
    "arangeList;"
   ]
  },
  {
   "cell_type": "markdown",
   "id": "e6e3277a",
   "metadata": {},
   "source": [
    "We can use the following helper function [Comparator.comparingInt](https://docs.oracle.com/en/java/javase/11/docs/api/java.base/java/util/Comparator.html#comparingInt(java.util.function.ToIntFunction)) which makes the code cleaner."
   ]
  },
  {
   "cell_type": "markdown",
   "id": "7789aa99",
   "metadata": {},
   "source": [
    "`static Comparator`   `comparingInt​(ToIntFunction<? super T> keyExtractor)`:   Accepts a function that extracts an `int` sort key from a type `T`, and returns a `Comparator` that compares by that sort key."
   ]
  },
  {
   "cell_type": "code",
   "execution_count": 103,
   "id": "74028ff9",
   "metadata": {},
   "outputs": [
    {
     "data": {
      "text/plain": [
       "[3, 0, 1, 2, 4, 5, 6, 7, 8, 9]"
      ]
     },
     "execution_count": 103,
     "metadata": {},
     "output_type": "execute_result"
    }
   ],
   "source": [
    "arangeList.sort(Comparator.comparingInt((x) -> {\n",
    "    if (x == 3) {\n",
    "        return Integer.MIN_VALUE;\n",
    "    }\n",
    "    \n",
    "    return x;\n",
    "}));\n",
    "\n",
    "arangeList;"
   ]
  },
  {
   "cell_type": "markdown",
   "id": "04ebf709",
   "metadata": {},
   "source": [
    "# Tmp"
   ]
  },
  {
   "cell_type": "code",
   "execution_count": 17,
   "id": "72dd1279",
   "metadata": {},
   "outputs": [
    {
     "data": {
      "text/plain": [
       "java.util.stream.IntPipeline$10@49cea0df"
      ]
     },
     "execution_count": 17,
     "metadata": {},
     "output_type": "execute_result"
    }
   ],
   "source": [
    "IntConsumer fn = (x) -> System.out.println(x);\n",
    "arange.peek(fn); "
   ]
  },
  {
   "cell_type": "code",
   "execution_count": 19,
   "id": "73628d78",
   "metadata": {},
   "outputs": [
    {
     "data": {
      "text/plain": [
       "null"
      ]
     },
     "execution_count": 19,
     "metadata": {},
     "output_type": "execute_result"
    }
   ],
   "source": [
    "arange.peek((x) -> System.out.println(x)); "
   ]
  }
 ],
 "metadata": {
  "kernelspec": {
   "display_name": "Java11",
   "language": "java",
   "name": "java"
  },
  "language_info": {
   "codemirror_mode": "text/x-java",
   "file_extension": ".java",
   "mimetype": "",
   "name": "Java",
   "nbconverter_exporter": "",
   "version": "11.0.1"
  },
  "toc": {
   "base_numbering": 1,
   "nav_menu": {},
   "number_sections": false,
   "sideBar": false,
   "skip_h1_title": false,
   "title_cell": "Table of Contents",
   "title_sidebar": "Contents",
   "toc_cell": false,
   "toc_position": {},
   "toc_section_display": false,
   "toc_window_display": false
  }
 },
 "nbformat": 4,
 "nbformat_minor": 5
}
