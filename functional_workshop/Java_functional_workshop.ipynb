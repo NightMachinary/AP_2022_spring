{
 "cells": [
  {
   "cell_type": "markdown",
   "id": "8b7280ec",
   "metadata": {},
   "source": [
    "# Docs\n",
    "- [the Consumer interface](https://docs.oracle.com/javase/8/docs/api/java/util/function/Consumer.html)\n",
    "- [the Function interface](https://docs.oracle.com/javase/8/docs/api/java/util/function/Function.html)\n",
    "- [the Comparator interface](https://docs.oracle.com/en/java/javase/11/docs/api/java.base/java/util/Comparator.html)\n",
    "- [Stream.map](https://docs.oracle.com/javase/8/docs/api/java/util/stream/Stream.html#map-java.util.function.Function-)\n",
    "- [Stream.collect](https://docs.oracle.com/javase/8/docs/api/java/util/stream/Stream.html#collect-java.util.function.Supplier-java.util.function.BiConsumer-java.util.function.BiConsumer-)\n",
    "- [IntStream.forEach](https://docs.oracle.com/javase/8/docs/api/java/util/stream/IntStream.html#forEach-java.util.function.IntConsumer-)\n",
    "- [IntStream.peek](https://docs.oracle.com/javase/8/docs/api/java/util/stream/IntStream.html#peek-java.util.function.IntConsumer-)\n",
    "- [List.sort](https://docs.oracle.com/en/java/javase/11/docs/api/java.base/java/util/List.html#sort(java.util.Comparator))\n",
    "- [ArrayList.forEach](https://docs.oracle.com/javase/8/docs/api/java/util/ArrayList.html#forEach-java.util.function.Consumer-)\n",
    "\n",
    "## Tutorials\n",
    "- [Lambda Expressions](https://docs.oracle.com/javase/tutorial/java/javaOO/lambdaexpressions.html)"
   ]
  },
  {
   "cell_type": "markdown",
   "id": "322529da",
   "metadata": {},
   "source": [
    "# Basics"
   ]
  },
  {
   "cell_type": "markdown",
   "id": "5e6d0759",
   "metadata": {},
   "source": [
    "## Lambdas as implementations of arbitrary single function (\"functional\") interfaces"
   ]
  },
  {
   "cell_type": "code",
   "execution_count": 41,
   "id": "003997ef",
   "metadata": {},
   "outputs": [
    {
     "data": {
      "text/plain": [
       "null"
      ]
     },
     "execution_count": 41,
     "metadata": {},
     "output_type": "execute_result"
    }
   ],
   "source": [
    "interface Doable {\n",
    "    void execute();\n",
    "}"
   ]
  },
  {
   "cell_type": "code",
   "execution_count": 47,
   "id": "949915b6",
   "metadata": {},
   "outputs": [
    {
     "name": "stdout",
     "output_type": "stream",
     "text": [
      "Hi!\n"
     ]
    },
    {
     "data": {
      "text/plain": [
       "null"
      ]
     },
     "execution_count": 47,
     "metadata": {},
     "output_type": "execute_result"
    }
   ],
   "source": [
    "class MyDoable implements Doable {\n",
    "    public void execute() {\n",
    "        System.out.println(\"Hi!\");\n",
    "    }\n",
    "};\n",
    "\n",
    "Doable a = new MyDoable();\n",
    "\n",
    "a.execute()"
   ]
  },
  {
   "cell_type": "markdown",
   "id": "e3663c9e",
   "metadata": {},
   "source": [
    "In previous versions of Java, you could use an anonymous class implementation:"
   ]
  },
  {
   "cell_type": "code",
   "execution_count": 43,
   "id": "60fb6727",
   "metadata": {},
   "outputs": [
    {
     "name": "stdout",
     "output_type": "stream",
     "text": [
      "Hi!\n"
     ]
    },
    {
     "data": {
      "text/plain": [
       "null"
      ]
     },
     "execution_count": 43,
     "metadata": {},
     "output_type": "execute_result"
    }
   ],
   "source": [
    "Doable a = new Doable() {\n",
    "    public void execute() {\n",
    "        System.out.println(\"Hi!\");\n",
    "    }\n",
    "};\n",
    "\n",
    "a.execute()"
   ]
  },
  {
   "cell_type": "markdown",
   "id": "a68267fe",
   "metadata": {},
   "source": [
    "After Java 8, you can use lambda expressions instead:"
   ]
  },
  {
   "cell_type": "code",
   "execution_count": 45,
   "id": "aa57dc9a",
   "metadata": {},
   "outputs": [
    {
     "name": "stdout",
     "output_type": "stream",
     "text": [
      "Hi!\n"
     ]
    },
    {
     "data": {
      "text/plain": [
       "null"
      ]
     },
     "execution_count": 45,
     "metadata": {},
     "output_type": "execute_result"
    }
   ],
   "source": [
    "Doable a = () -> {\n",
    "    System.out.println(\"Hi!\");\n",
    "};\n",
    "\n",
    "a.execute()"
   ]
  },
  {
   "cell_type": "markdown",
   "id": "626c1979",
   "metadata": {},
   "source": [
    "## Examples"
   ]
  },
  {
   "cell_type": "code",
   "execution_count": 30,
   "id": "6d54ce9c",
   "metadata": {},
   "outputs": [
    {
     "data": {
      "text/plain": [
       "java.util.stream.IntPipeline$Head@489b1d29"
      ]
     },
     "execution_count": 30,
     "metadata": {},
     "output_type": "execute_result"
    }
   ],
   "source": [
    "var arange = IntStream.range(0, 10)"
   ]
  },
  {
   "cell_type": "code",
   "execution_count": 31,
   "id": "5c6428d2",
   "metadata": {},
   "outputs": [
    {
     "data": {
      "text/plain": [
       "[0, 1, 2, 3, 4, 5, 6, 7, 8, 9]"
      ]
     },
     "execution_count": 31,
     "metadata": {},
     "output_type": "execute_result"
    }
   ],
   "source": [
    "var arangeList = arange.boxed().collect(Collectors.toList()); // converting the IntStream to a normal (boxed) stream, then converting it to a List\n",
    "arangeList;"
   ]
  },
  {
   "cell_type": "code",
   "execution_count": 36,
   "id": "30e5fb41",
   "metadata": {},
   "outputs": [
    {
     "name": "stdout",
     "output_type": "stream",
     "text": [
      "0\n",
      "1\n",
      "2\n",
      "3\n",
      "4\n",
      "5\n",
      "6\n",
      "7\n",
      "8\n",
      "9\n"
     ]
    },
    {
     "data": {
      "text/plain": [
       "null"
      ]
     },
     "execution_count": 36,
     "metadata": {},
     "output_type": "execute_result"
    }
   ],
   "source": [
    "Consumer fn = (x) -> System.out.println(x);\n",
    "arangeList.forEach(fn); "
   ]
  },
  {
   "cell_type": "markdown",
   "id": "751487f5",
   "metadata": {},
   "source": [
    "Type inference will be done automatically if the lambda expression is used directly in a method call (as the compiler knows the type signature needed):"
   ]
  },
  {
   "cell_type": "code",
   "execution_count": 37,
   "id": "7ad6bee0",
   "metadata": {},
   "outputs": [
    {
     "name": "stdout",
     "output_type": "stream",
     "text": [
      "0\n",
      "1\n",
      "2\n",
      "3\n",
      "4\n",
      "5\n",
      "6\n",
      "7\n",
      "8\n",
      "9\n"
     ]
    },
    {
     "data": {
      "text/plain": [
       "null"
      ]
     },
     "execution_count": 37,
     "metadata": {},
     "output_type": "execute_result"
    }
   ],
   "source": [
    "arangeList.forEach((x) -> System.out.println(x)); "
   ]
  },
  {
   "cell_type": "markdown",
   "id": "7e5a3371",
   "metadata": {},
   "source": [
    "But the compiler is not smart enough for this kind of type inference:"
   ]
  },
  {
   "cell_type": "code",
   "execution_count": 38,
   "id": "335edbb6",
   "metadata": {},
   "outputs": [
    {
     "ename": "var fn = (x) -> System.out.println(x);",
     "evalue": "var fn = (x) -> System.out.println(x);",
     "output_type": "error",
     "traceback": [
      "\u001b[1;31mvar fn = (x) -> System.out.println(x);\u001b[0;0m",
      "\u001b[1;31mcannot infer type for local variable fn\u001b[0;0m",
      "\u001b[1;31m  (lambda expression needs an explicit target-type)\u001b[0;0m"
     ]
    }
   ],
   "source": [
    "var fn = (x) -> System.out.println(x);\n",
    "arange.forEach(fn);"
   ]
  },
  {
   "cell_type": "markdown",
   "id": "0172b2ef",
   "metadata": {},
   "source": [
    "It's possible to use the general type `Function`, but then it might not be compatible with the functional interface needed by the caller:"
   ]
  },
  {
   "cell_type": "code",
   "execution_count": 43,
   "id": "507ef1b1",
   "metadata": {},
   "outputs": [
    {
     "ename": "",
     "evalue": "",
     "output_type": "error",
     "traceback": [
      "\u001b[1;31m\u001b[0;0m",
      "\u001b[1;31m\u001b[0;0m",
      "\u001b[1;31marangeList.forEach(fn);\u001b[0;0m",
      "\u001b[1;31mincompatible types: java.util.function.Function cannot be converted to java.util.function.Consumer<? super java.lang.Integer>\u001b[0;0m"
     ]
    }
   ],
   "source": [
    "Function fn = (x) -> { \n",
    "    System.out.println(x);\n",
    "    return null;\n",
    "    };\n",
    "\n",
    "arangeList.forEach(fn);"
   ]
  },
  {
   "cell_type": "markdown",
   "id": "fa412a87",
   "metadata": {},
   "source": [
    "Now let's see a pure function that is used for computation instead of side-effects.\n",
    "\n",
    "We first have to convert our `List` to a `Stream`, then convert it back into a `List`. This is because Java's `List` does not have a `map` method."
   ]
  },
  {
   "cell_type": "code",
   "execution_count": 59,
   "id": "229c65f4",
   "metadata": {},
   "outputs": [
    {
     "data": {
      "text/plain": [
       "[0, 10, 20, 30, 40, 50, 60, 70, 80, 90]"
      ]
     },
     "execution_count": 59,
     "metadata": {},
     "output_type": "execute_result"
    }
   ],
   "source": [
    "arangeList.stream().map((x) -> {\n",
    "   return x*10; \n",
    "}).collect(Collectors.toList());"
   ]
  },
  {
   "cell_type": "markdown",
   "id": "da3bd4ce",
   "metadata": {},
   "source": [
    "We can use the generic type `Function` for these; but we will still lose some type information. This causes us to need to cast `x` to `int` explicitly."
   ]
  },
  {
   "cell_type": "code",
   "execution_count": 65,
   "id": "5858a6e7",
   "metadata": {},
   "outputs": [
    {
     "data": {
      "text/plain": [
       "[0, 10, 20, 30, 40, 50, 60, 70, 80, 90]"
      ]
     },
     "execution_count": 65,
     "metadata": {},
     "output_type": "execute_result"
    }
   ],
   "source": [
    "Function fn = (x) -> {\n",
    "    var x_int = (int)x;\n",
    "    return x_int*10;\n",
    "};\n",
    "\n",
    "arangeList.stream().map(fn).collect(Collectors.toList());"
   ]
  },
  {
   "cell_type": "markdown",
   "id": "8578f3aa",
   "metadata": {},
   "source": [
    "Let's define a helper function to run `map` on `List` more concisely:"
   ]
  },
  {
   "cell_type": "code",
   "execution_count": 68,
   "id": "f511391d",
   "metadata": {},
   "outputs": [
    {
     "data": {
      "text/plain": [
       "null"
      ]
     },
     "execution_count": 68,
     "metadata": {},
     "output_type": "execute_result"
    }
   ],
   "source": [
    "List listMap(List lst, Function fn) {\n",
    "    return (List)(lst.stream().map(fn).collect(Collectors.toList()));\n",
    "}"
   ]
  },
  {
   "cell_type": "code",
   "execution_count": 69,
   "id": "c86a4cee",
   "metadata": {},
   "outputs": [
    {
     "data": {
      "text/plain": [
       "[0, 10, 20, 30, 40, 50, 60, 70, 80, 90]"
      ]
     },
     "execution_count": 69,
     "metadata": {},
     "output_type": "execute_result"
    }
   ],
   "source": [
    "Function fn = (x) -> {\n",
    "    var x_int = (int)x;\n",
    "    return x_int*10;\n",
    "};\n",
    "\n",
    "listMap(arangeList, fn);"
   ]
  },
  {
   "cell_type": "markdown",
   "id": "4632cf9c",
   "metadata": {},
   "source": [
    "# Stream functions"
   ]
  },
  {
   "cell_type": "code",
   "execution_count": 106,
   "id": "67db25d1",
   "metadata": {},
   "outputs": [
    {
     "data": {
      "text/plain": [
       "[0, 2, 4, 6, 8]"
      ]
     },
     "execution_count": 106,
     "metadata": {},
     "output_type": "execute_result"
    }
   ],
   "source": [
    "var arange = IntStream.range(0, 10); // We need to recreate this `stream` every time we use it, as it will be \"consumed.\"\n",
    "\n",
    "arange\n",
    "  .filter((x) -> (x % 2 == 0))\n",
    "  .toArray();"
   ]
  },
  {
   "cell_type": "code",
   "execution_count": 110,
   "id": "ce6c1560",
   "metadata": {},
   "outputs": [
    {
     "data": {
      "text/plain": [
       "[2, 4, 6, 8]"
      ]
     },
     "execution_count": 110,
     "metadata": {},
     "output_type": "execute_result"
    }
   ],
   "source": [
    "var arange = IntStream.range(0, 10); \n",
    "arange\n",
    "  .filter((x) -> (x % 2 == 0))\n",
    "  .filter((x) -> (x > 0))\n",
    "  .toArray();"
   ]
  },
  {
   "cell_type": "code",
   "execution_count": 113,
   "id": "d390c6cd",
   "metadata": {},
   "outputs": [
    {
     "data": {
      "text/plain": [
       "[6, 12, 18, 24]"
      ]
     },
     "execution_count": 113,
     "metadata": {},
     "output_type": "execute_result"
    }
   ],
   "source": [
    "var arange = IntStream.range(0, 10); \n",
    "arange\n",
    "  .filter((x) -> (x % 2 == 0))\n",
    "  .filter((x) -> (x > 0))\n",
    "  .map((x) -> x*3)\n",
    "  .toArray();"
   ]
  },
  {
   "cell_type": "code",
   "execution_count": 121,
   "id": "ffaf8a8a",
   "metadata": {},
   "outputs": [
    {
     "data": {
      "text/plain": [
       "60"
      ]
     },
     "execution_count": 121,
     "metadata": {},
     "output_type": "execute_result"
    }
   ],
   "source": [
    "var arange = IntStream.range(0, 10); \n",
    "\n",
    "arange\n",
    "  .filter((x) -> (x % 2 == 0))\n",
    "  .filter((x) -> (x > 0))\n",
    "  .map((x) -> x*3)\n",
    "  .reduce(0, (a, b) -> a+b); // https://docs.oracle.com/javase/8/docs/api/java/util/stream/IntStream.html#reduce-int-java.util.function.IntBinaryOperator-"
   ]
  },
  {
   "cell_type": "markdown",
   "id": "f3e8729e",
   "metadata": {},
   "source": [
    "We could also use the function reference `Integer::sum` for the last reduction:"
   ]
  },
  {
   "cell_type": "code",
   "execution_count": 123,
   "id": "523b1c2b",
   "metadata": {},
   "outputs": [
    {
     "data": {
      "text/plain": [
       "19"
      ]
     },
     "execution_count": 123,
     "metadata": {},
     "output_type": "execute_result"
    }
   ],
   "source": [
    "Integer.sum(8,11); // an example"
   ]
  },
  {
   "cell_type": "code",
   "execution_count": 122,
   "id": "741e01a3",
   "metadata": {},
   "outputs": [
    {
     "data": {
      "text/plain": [
       "60"
      ]
     },
     "execution_count": 122,
     "metadata": {},
     "output_type": "execute_result"
    }
   ],
   "source": [
    "var arange = IntStream.range(0, 10); \n",
    "\n",
    "arange\n",
    "  .filter((x) -> (x % 2 == 0))\n",
    "  .filter((x) -> (x > 0))\n",
    "  .map((x) -> x*3)\n",
    "  .reduce(0, Integer::sum);"
   ]
  },
  {
   "cell_type": "markdown",
   "id": "2310877d",
   "metadata": {},
   "source": [
    "# Function composition"
   ]
  },
  {
   "cell_type": "markdown",
   "id": "d034c670",
   "metadata": {},
   "source": [
    "## Composing functions returning Void (i.e., running functions for their side-effects)"
   ]
  },
  {
   "cell_type": "code",
   "execution_count": 48,
   "id": "e807c281",
   "metadata": {},
   "outputs": [
    {
     "data": {
      "text/plain": [
       "null"
      ]
     },
     "execution_count": 48,
     "metadata": {},
     "output_type": "execute_result"
    }
   ],
   "source": [
    "Consumer consumer_sequential_combination(List<Consumer> consumers) {\n",
    "    return (x) -> {\n",
    "        consumers.forEach((consumer) -> consumer.accept(x)); \n",
    "        // We looked at the docs to know that this interface uses the name `accept` for its \"main\" method.\n",
    "    };\n",
    "}"
   ]
  },
  {
   "cell_type": "code",
   "execution_count": 54,
   "id": "07e12bc9",
   "metadata": {},
   "outputs": [
    {
     "name": "stdout",
     "output_type": "stream",
     "text": [
      "0\n",
      "0\n",
      "#####\n",
      "1\n",
      "2\n",
      "#####\n",
      "2\n",
      "4\n",
      "#####\n",
      "3\n",
      "6\n",
      "#####\n",
      "4\n",
      "8\n",
      "#####\n",
      "5\n",
      "10\n",
      "#####\n",
      "6\n",
      "12\n",
      "#####\n",
      "7\n",
      "14\n",
      "#####\n",
      "8\n",
      "16\n",
      "#####\n",
      "9\n",
      "18\n",
      "#####\n"
     ]
    },
    {
     "data": {
      "text/plain": [
       "null"
      ]
     },
     "execution_count": 54,
     "metadata": {},
     "output_type": "execute_result"
    }
   ],
   "source": [
    "Consumer fn_print = (x) -> System.out.println(x);\n",
    "Consumer fn_double_print = (x) -> {\n",
    "    int x_int = (int)x;\n",
    "    System.out.println(x_int*2);\n",
    "};\n",
    "Consumer fn_print_sep = (x) -> System.out.println(\"#####\");\n",
    "\n",
    "Consumer fn_all = consumer_sequential_combination(Arrays.asList(fn_print, fn_double_print, fn_print_sep));\n",
    "\n",
    "arangeList.forEach(fn_all); "
   ]
  },
  {
   "cell_type": "markdown",
   "id": "d4e2ad3a",
   "metadata": {},
   "source": [
    "Exercise: Create `consumer_parallel_combination` that runs its consumers in parallel."
   ]
  },
  {
   "cell_type": "markdown",
   "id": "578733b0",
   "metadata": {},
   "source": [
    "## Composing pure functions returning results"
   ]
  },
  {
   "cell_type": "code",
   "execution_count": 80,
   "id": "c4d93375",
   "metadata": {},
   "outputs": [
    {
     "data": {
      "text/plain": [
       "null"
      ]
     },
     "execution_count": 80,
     "metadata": {},
     "output_type": "execute_result"
    }
   ],
   "source": [
    "Function fn_compose(List<Function> functions) {\n",
    "    return (x) -> {\n",
    "        Object res = x;\n",
    "        for (Function fn : functions) {\n",
    "            res = fn.apply(res);\n",
    "            // https://docs.oracle.com/javase/8/docs/api/java/util/function/Function.html\n",
    "        }\n",
    "        return res;\n",
    "    };\n",
    "}"
   ]
  },
  {
   "cell_type": "code",
   "execution_count": 90,
   "id": "a8bddc8e",
   "metadata": {},
   "outputs": [
    {
     "data": {
      "text/plain": [
       "[3, 13, 23, 33, 43, 53, 63, 73, 83, 93]"
      ]
     },
     "execution_count": 90,
     "metadata": {},
     "output_type": "execute_result"
    }
   ],
   "source": [
    "Function fn_double = (x) -> {\n",
    "    var x_int = (int)x;\n",
    "    return x_int * 10;\n",
    "};\n",
    "\n",
    "Function fn_inc = (x) -> {\n",
    "    var x_int = (int)x;\n",
    "    return x_int + 1;\n",
    "};\n",
    "\n",
    "Function fn_all = fn_compose(Arrays.asList(fn_double, fn_inc, fn_inc, fn_inc));\n",
    "\n",
    "listMap(arangeList, fn_all);"
   ]
  },
  {
   "cell_type": "markdown",
   "id": "9264e10c",
   "metadata": {},
   "source": [
    "# Using lambdas for sorting"
   ]
  },
  {
   "cell_type": "code",
   "execution_count": 100,
   "id": "e66238ca",
   "metadata": {},
   "outputs": [
    {
     "data": {
      "text/plain": [
       "[3, 0, 1, 2, 4, 5, 6, 7, 8, 9]"
      ]
     },
     "execution_count": 100,
     "metadata": {},
     "output_type": "execute_result"
    }
   ],
   "source": [
    "arangeList.sort((a, b) -> {\n",
    "   if (a == 3) {\n",
    "       return -1; // '3' is smaller than everything else.\n",
    "   } else if (b == 3) {\n",
    "       return 1; // everything is bigger than '3'.\n",
    "   } else if (a < b) {\n",
    "       return -1;\n",
    "   } else if (a == b) {\n",
    "       return 0;\n",
    "   } else {\n",
    "       return 1;\n",
    "   }\n",
    "});\n",
    "\n",
    "arangeList;"
   ]
  },
  {
   "cell_type": "markdown",
   "id": "e6e3277a",
   "metadata": {},
   "source": [
    "We can use the following helper function [Comparator.comparingInt](https://docs.oracle.com/en/java/javase/11/docs/api/java.base/java/util/Comparator.html#comparingInt(java.util.function.ToIntFunction)) which makes the code cleaner."
   ]
  },
  {
   "cell_type": "markdown",
   "id": "7789aa99",
   "metadata": {},
   "source": [
    "`static Comparator`   `comparingInt​(ToIntFunction<? super T> keyExtractor)`:   Accepts a function that extracts an `int` sort key from a type `T`, and returns a `Comparator` that compares by that sort key."
   ]
  },
  {
   "cell_type": "code",
   "execution_count": 103,
   "id": "74028ff9",
   "metadata": {},
   "outputs": [
    {
     "data": {
      "text/plain": [
       "[3, 0, 1, 2, 4, 5, 6, 7, 8, 9]"
      ]
     },
     "execution_count": 103,
     "metadata": {},
     "output_type": "execute_result"
    }
   ],
   "source": [
    "arangeList.sort(Comparator.comparingInt((x) -> {\n",
    "    if (x == 3) {\n",
    "        return Integer.MIN_VALUE;\n",
    "    }\n",
    "    \n",
    "    return x;\n",
    "}));\n",
    "\n",
    "arangeList;"
   ]
  },
  {
   "cell_type": "markdown",
   "id": "87c9a76b",
   "metadata": {},
   "source": [
    "# Closures\n",
    "\n",
    "Definition: A \"closure\" is something (a function or object or other thing that can be run in some way like having methods) that captures (\"closes over\") a local variable from its enclosing scope, and which can use that variable in its code, even when the function or object's method is run at a later time, including when the enclosing scope no longer exists.\n",
    "\n",
    "Java does not support closures that hold references to the captured variables.\n",
    "\n",
    "See:\n",
    "- https://stackoverflow.com/questions/3805474/what-is-a-closure-does-java-have-closures\n",
    "- https://stackoverflow.com/questions/17204279/does-java-8-support-closures"
   ]
  },
  {
   "cell_type": "code",
   "execution_count": 37,
   "id": "898178bf",
   "metadata": {},
   "outputs": [
    {
     "name": "stdout",
     "output_type": "stream",
     "text": [
      "15\n",
      "5\n"
     ]
    },
    {
     "data": {
      "text/plain": [
       "null"
      ]
     },
     "execution_count": 37,
     "metadata": {},
     "output_type": "execute_result"
    }
   ],
   "source": [
    "void f1() {\n",
    "    int number = 5;\n",
    "\n",
    "    Function callback = (x) -> {\n",
    "        return (number + (int)x);\n",
    "    };\n",
    "\n",
    "    Object result = callback.apply(10);\n",
    "\n",
    "    System.out.println(result);\n",
    "    System.out.println(number);\n",
    "}\n",
    "\n",
    "f1();"
   ]
  },
  {
   "cell_type": "code",
   "execution_count": 18,
   "id": "9ec492fd",
   "metadata": {},
   "outputs": [
    {
     "ename": "void f1() {",
     "evalue": "void f1() {",
     "output_type": "error",
     "traceback": [
      "\u001b[1;31mvoid f1() {\u001b[0;0m",
      "\u001b[1;31mint number = 5;\u001b[0;0m",
      "\u001b[1;31m\u001b[0;0m",
      "\u001b[1;31mFunction callback = (x) -> {\u001b[0;0m",
      "\u001b[1;31mreturn (number = number + (int)x);\u001b[0;0m",
      "\u001b[1;31m};\u001b[0;0m",
      "\u001b[1;31m\u001b[0;0m",
      "\u001b[1;31mObject result = callback.apply(10);\u001b[0;0m",
      "\u001b[1;31m\u001b[0;0m",
      "\u001b[1;31mSystem.out.println(result);\u001b[0;0m",
      "\u001b[1;31mSystem.out.println(number);\u001b[0;0m",
      "\u001b[1;31m}\u001b[0;0m",
      "\u001b[1;31munchecked call to apply(T) as a member of the raw type java.util.function.Function\u001b[0;0m",
      "\u001b[1;31mlocal variables referenced from a lambda expression must be final or effectively final\u001b[0;0m",
      "\u001b[1;31mlocal variables referenced from a lambda expression must be final or effectively final\u001b[0;0m"
     ]
    }
   ],
   "source": [
    "void f1() {\n",
    "    int number = 5;\n",
    "\n",
    "    Function callback = (x) -> {\n",
    "        return (number = number + (int)x);\n",
    "    };\n",
    "\n",
    "    Object result = callback.apply(10);\n",
    "\n",
    "    System.out.println(result);\n",
    "    System.out.println(number);\n",
    "}\n",
    "\n",
    "f1();"
   ]
  },
  {
   "cell_type": "markdown",
   "id": "9079591f",
   "metadata": {},
   "source": [
    "### @skipMe The REPL here is funny"
   ]
  },
  {
   "cell_type": "code",
   "execution_count": 10,
   "id": "6f68af50",
   "metadata": {},
   "outputs": [
    {
     "name": "stdout",
     "output_type": "stream",
     "text": [
      "15\n",
      "15\n"
     ]
    },
    {
     "data": {
      "text/plain": [
       "null"
      ]
     },
     "execution_count": 10,
     "metadata": {},
     "output_type": "execute_result"
    }
   ],
   "source": [
    "int number = 5;\n",
    "\n",
    "Function callback = (x) -> {\n",
    "    return (number = number + (int)x);\n",
    "};\n",
    "\n",
    "Object result = callback.apply(10);\n",
    "\n",
    "System.out.println(result);\n",
    "System.out.println(number);"
   ]
  },
  {
   "cell_type": "code",
   "execution_count": 31,
   "id": "cc5aa5aa",
   "metadata": {},
   "outputs": [
    {
     "ename": "int f1() {",
     "evalue": "int f1() {",
     "output_type": "error",
     "traceback": [
      "\u001b[1;31mint f1() {\u001b[0;0m",
      "\u001b[1;31mfinal int a = 6;\u001b[0;0m",
      "\u001b[1;31ma = 2;\u001b[0;0m",
      "\u001b[1;31mreturn a;\u001b[0;0m",
      "\u001b[1;31m}\u001b[0;0m",
      "\u001b[1;31mcannot assign a value to final variable a\u001b[0;0m"
     ]
    }
   ],
   "source": [
    "int f1() {\n",
    "    final int a = 6;\n",
    "    a = 2;\n",
    "    return a;\n",
    "}\n",
    "\n",
    "f1();"
   ]
  },
  {
   "cell_type": "code",
   "execution_count": 34,
   "id": "16398c5a",
   "metadata": {},
   "outputs": [
    {
     "ename": "int f1() {",
     "evalue": "int f1() {",
     "output_type": "error",
     "traceback": [
      "\u001b[1;31mint f1() {\u001b[0;0m",
      "\u001b[1;31mfinal static int a = 6;\u001b[0;0m",
      "\u001b[1;31ma = 2;\u001b[0;0m",
      "\u001b[1;31mreturn a;\u001b[0;0m",
      "\u001b[1;31m}\u001b[0;0m",
      "\u001b[1;31mmodifier static not allowed here\u001b[0;0m",
      "\u001b[1;31mcannot assign a value to final variable a\u001b[0;0m"
     ]
    }
   ],
   "source": [
    "int f1() {\n",
    "    final static int a = 6;\n",
    "    a = 2;\n",
    "    return a;\n",
    "}\n",
    "\n",
    "f1();"
   ]
  },
  {
   "cell_type": "code",
   "execution_count": 33,
   "id": "0e6646a6",
   "metadata": {},
   "outputs": [
    {
     "data": {
      "text/plain": [
       "2"
      ]
     },
     "execution_count": 33,
     "metadata": {},
     "output_type": "execute_result"
    }
   ],
   "source": [
    "final int a = 6;\n",
    "a = 2;\n",
    "a;"
   ]
  },
  {
   "cell_type": "markdown",
   "id": "66a797a4",
   "metadata": {},
   "source": [
    "# Immutable collections"
   ]
  },
  {
   "cell_type": "markdown",
   "id": "4151fb5d",
   "metadata": {},
   "source": [
    "## Java's own"
   ]
  },
  {
   "cell_type": "markdown",
   "id": "4c8937f1",
   "metadata": {},
   "source": [
    "The REPL here is buggy, so I have attached the correct output (which you can test via `jshell`) manually."
   ]
  },
  {
   "cell_type": "code",
   "execution_count": 54,
   "id": "6e626f0b",
   "metadata": {},
   "outputs": [
    {
     "data": {
      "text/plain": [
       "null"
      ]
     },
     "execution_count": 54,
     "metadata": {},
     "output_type": "execute_result"
    }
   ],
   "source": [
    "List f1() {\n",
    "    List<String> list = new ArrayList<>(Arrays.asList(\"one\", \"two\", \"three\"));\n",
    "    List<String> unmodifiableList = Collections.unmodifiableList(list);\n",
    "    unmodifiableList.add(\"four\");\n",
    "    return unmodifiableList;\n",
    "}\n",
    "\n",
    "f1();"
   ]
  },
  {
   "cell_type": "markdown",
   "id": "46920def",
   "metadata": {},
   "source": [
    "```\n",
    "|  Exception java.lang.UnsupportedOperationException\n",
    "|        at Collections$UnmodifiableCollection.add (Collections.java:1062)\n",
    "|        at f1 (#6:4)\n",
    "|        at (#7:1)\n",
    "```"
   ]
  },
  {
   "cell_type": "markdown",
   "id": "aca1d3db",
   "metadata": {},
   "source": [
    "### Updating the immutable collections (into new immutable collections)"
   ]
  },
  {
   "cell_type": "code",
   "execution_count": 55,
   "id": "9850dec8",
   "metadata": {},
   "outputs": [
    {
     "data": {
      "text/plain": [
       "[one, two, three, four]"
      ]
     },
     "execution_count": 55,
     "metadata": {},
     "output_type": "execute_result"
    }
   ],
   "source": [
    "List<String> list = new ArrayList<>(Arrays.asList(\"one\", \"two\", \"three\"));\n",
    "List<String> unmodifiableList = Collections.unmodifiableList(list);\n",
    "\n",
    "Stream.concat(unmodifiableList.stream(),\n",
    "              Stream.of(\"four\"))\n",
    "      .collect(Collectors.toUnmodifiableList());"
   ]
  },
  {
   "cell_type": "markdown",
   "id": "ccb45934",
   "metadata": {},
   "source": [
    "# When is functional programming useful?"
   ]
  },
  {
   "cell_type": "markdown",
   "id": "881c1e15",
   "metadata": {},
   "source": [
    "- concurrency and parallelism\n",
    "  + immutable data needs no synchronization\n",
    "  + the map-reduce pattern\n",
    "- immutable data are stable regarding equals and hashCode and thus are reliable hash keys\n",
    "- pure functions are easier to understand and provide less leaky abstractions\n",
    "- lazy computations are more convenient in a functional context\n",
    "- progrmming flexibility and metaprogramming\n",
    "  + functions are easier to compose than objects\n",
    "  + functions and objects aren't that different\n",
    "    - a method call can be otherwise seen as a function call with the first argument being the object (like Python's `self`)\n",
    "    - the essense of an object is\n",
    "      + behavior (methods)\n",
    "      + polymorphism, inheritance, interfaces\n",
    "      + data\n",
    "    - the equivalent of the above are roughly\n",
    "      + the function itself\n",
    "      + multiple dispatch (which needs a type system that is not much different from normal OOP practices)\n",
    "      + data classes, structs, basic collections (dictionaries, lists, etc.)\n",
    "        - the data can be stored in a closure\n",
    "    - concrete inheritance can be a problem in functional contexts that disavow OOP\n",
    "      + mix-ins\n",
    "      + traits\n",
    "    - modern languages are adding functional elements to classic OOP\n",
    "      + perhaps this is because having zero overhead functional conveniences are harder on the compiler\n",
    "- declarative programming\n",
    "- tracing compilers\n",
    "  + accelerated deep learning via JAX\n",
    "- mathematical operations\n",
    "  + getting the derivative of a function\n",
    "- some languages have no object system, e.g., bash\n",
    "- functional programming is generally easier in dynamic languages"
   ]
  },
  {
   "cell_type": "markdown",
   "id": "d155d5bc",
   "metadata": {},
   "source": [
    "# Popular functional libraries in Java"
   ]
  },
  {
   "cell_type": "markdown",
   "id": "dd46cb76",
   "metadata": {},
   "source": [
    "-   [Cyclops](https://github.com/aol/cyclops) - Monad and stream utilities, comprehensions, pattern matching, functional extensions for all JDK collections, future streams, trampolines and much more.\n",
    "-   [derive4j](https://github.com/derive4j/derive4j) - Java 8 annotation processor and framework for deriving algebraic data types constructors, pattern-matching and morphisms. (GPL-3.0-only)\n",
    "-   [Fugue](https://bitbucket.org/atlassian/fugue) - Functional extensions to Guava.\n",
    "-   [Functional Java](http://www.functionaljava.org/) - Implements numerous basic and advanced programming abstractions that assist composition-oriented development.\n",
    "-   [jOOλ](https://github.com/jOOQ/jOOL) - Extension to Java 8 that aims to fix gaps in lambda by providing numerous missing types and a rich set of sequential Stream API additions.\n",
    "-   [protonpack](https://github.com/poetix/protonpack) - Collection of stream utilities.\n",
    "-   [StreamEx](https://github.com/amaembo/streamex) - Enhances Java 8 Streams.\n",
    "-   [Vavr](https://www.vavr.io/) - Functional component library that provides persistent data types and functional control structures.\n",
    "  + [userguide](https://docs.vavr.io/)\n"
   ]
  },
  {
   "cell_type": "markdown",
   "id": "e18d3a9c",
   "metadata": {},
   "source": [
    "## @skipMe Vavr"
   ]
  },
  {
   "cell_type": "code",
   "execution_count": 58,
   "id": "80476f82",
   "metadata": {},
   "outputs": [
    {
     "data": {
      "application/vnd.jupyter.widget-view+json": {
       "model_id": "",
       "version_major": 2,
       "version_minor": 0
      },
      "method": "display_data"
     },
     "metadata": {},
     "output_type": "display_data"
    },
    {
     "data": {
      "application/vnd.jupyter.widget-view+json": {
       "model_id": "1e9e4ca6-fb99-4103-9dee-60bdc213d141",
       "version_major": 2,
       "version_minor": 0
      },
      "method": "display_data"
     },
     "metadata": {},
     "output_type": "display_data"
    }
   ],
   "source": [
    "%%classpath add mvn\n",
    "<dependencies>\n",
    "    <dependency>\n",
    "        <groupId>io.vavr</groupId>\n",
    "        <artifactId>vavr</artifactId>\n",
    "        <version>0.10.4</version>\n",
    "    </dependency>\n",
    "</dependencies>"
   ]
  },
  {
   "cell_type": "code",
   "execution_count": 65,
   "id": "4f772980",
   "metadata": {},
   "outputs": [
    {
     "name": "stderr",
     "output_type": "stream",
     "text": [
      "Could not import io.vavr.collection\n"
     ]
    },
    {
     "ename": "Index 0 out of bounds for length 0",
     "evalue": "Index 0 out of bounds for length 0",
     "output_type": "error",
     "traceback": [
      "\u001b[1;31mIndex 0 out of bounds for length 0\u001b[0;0m"
     ]
    }
   ],
   "source": [
    "%import io.vavr.collection\n",
    "\n",
    "// io.vavr.collection.List<Integer> list1 = io.vavr.collection.List.of(1, 2, 3);\n",
    "// io.vavr.collection.List<Integer> list2 = list1.tail().prepend(0);"
   ]
  },
  {
   "cell_type": "markdown",
   "id": "23c26580",
   "metadata": {},
   "source": [
    "# Scala\n",
    "\n",
    "In the Scala implementation, a cons-cell of type T is an object of type ::[T]. It has two val-fields, namely head and tail. The tail of a cons-cell of type T contains a reference to the unique object Nil, or to another cons-cell of type T.\n",
    "\n",
    "The Scala kernel does not currently work, but we can still see the idea of a cons cell:"
   ]
  },
  {
   "cell_type": "code",
   "execution_count": 1,
   "id": "30fcb3d8",
   "metadata": {},
   "outputs": [
    {
     "ename": "py4j.Py4JException",
     "evalue": " An exception was raised by the Python Proxy. Return Message",
     "output_type": "error",
     "traceback": [
      "\u001b[1;31mpy4j.Py4JException: An exception was raised by the Python Proxy. Return Message: Traceback (most recent call last):\u001b[0;0m",
      "\u001b[1;31m  File \"/Users/evar/anaconda/envs/beakerx/lib/python3.7/site-packages/py4j/clientserver.py\", line 575, in _call_proxy\u001b[0;0m",
      "\u001b[1;31m    return_value = getattr(self.pool[obj_id], method)(*params)\u001b[0;0m",
      "\u001b[1;31m  File \"/Users/evar/anaconda/envs/beakerx/lib/python3.7/site-packages/beakerx_kernel_autotranslation/jvm_server.py\", line 27, in evaluate\u001b[0;0m",
      "\u001b[1;31m    self.pm.run_cell(code)\u001b[0;0m",
      "\u001b[1;31m  File \"/Users/evar/anaconda/envs/beakerx/lib/python3.7/site-packages/beakerx_kernel_autotranslation/jvm_kernel_magic.py\", line 44, in run_cell\u001b[0;0m",
      "\u001b[1;31m    self.kc.execute(code, allow_stdin=True)\u001b[0;0m",
      "\u001b[1;31m  File \"/Users/evar/anaconda/envs/beakerx/lib/python3.7/site-packages/jupyter_client/blocking/client.py\", line 20, in _\u001b[0;0m",
      "\u001b[1;31m    msg_id = meth(self, *args, **kwargs)\u001b[0;0m",
      "\u001b[1;31m  File \"/Users/evar/anaconda/envs/beakerx/lib/python3.7/site-packages/jupyter_client/client.py\", line 607, in execute\u001b[0;0m",
      "\u001b[1;31m    self.shell_channel.send(msg)\u001b[0;0m",
      "\u001b[1;31m  File \"/Users/evar/anaconda/envs/beakerx/lib/python3.7/site-packages/jupyter_client/channels.py\", line 263, in send\u001b[0;0m",
      "\u001b[1;31m    self.session.send(self.socket, msg)\u001b[0;0m",
      "\u001b[1;31m  File \"/Users/evar/anaconda/envs/beakerx/lib/python3.7/site-packages/jupyter_client/session.py\", line 853, in send\u001b[0;0m",
      "\u001b[1;31m    stream.send_multipart(to_send, copy=copy)\u001b[0;0m",
      "\u001b[1;31m  File \"/Users/evar/anaconda/envs/beakerx/lib/python3.7/site-packages/zmq/_future.py\", line 248, in send_multipart\u001b[0;0m",
      "\u001b[1;31m    return self._add_send_event('send_multipart', msg=msg, kwargs=kwargs)\u001b[0;0m",
      "\u001b[1;31m  File \"/Users/evar/anaconda/envs/beakerx/lib/python3.7/site-packages/zmq/_future.py\", line 410, in _add_send_event\u001b[0;0m",
      "\u001b[1;31m    f = future or self._Future()\u001b[0;0m",
      "\u001b[1;31m  File \"/Users/evar/anaconda/envs/beakerx/lib/python3.7/asyncio/events.py\", line 644, in get_event_loop\u001b[0;0m",
      "\u001b[1;31m    % threading.current_thread().name)\u001b[0;0m",
      "\u001b[1;31mRuntimeError: There is no current event loop in thread 'Thread-4'.\u001b[0;0m"
     ]
    }
   ],
   "source": [
    "%%scala\n",
    "\n",
    "val mainList = List(3, 2, 1)\n",
    "val with4 =    4 :: mainList  // re-uses mainList, costs one :: instance\n",
    "val with42 =   42 :: mainList // also re-uses mainList, cost one :: instance\n",
    "val shorter =  mainList.tail  // costs nothing as it uses the same 2::1::Nil instances as mainList"
   ]
  },
  {
   "cell_type": "markdown",
   "id": "9498994e",
   "metadata": {},
   "source": [
    "# Tail call optimization in Java"
   ]
  },
  {
   "cell_type": "markdown",
   "id": "4ed063aa",
   "metadata": {},
   "source": [
    "- https://github.com/Judekeyser/tail_rec : a proof-of-concept TCO implementation in Java\n",
    "  + https://scribe.rip/javarevisited/tail-recursion-in-java-abc24f56b56b"
   ]
  },
  {
   "cell_type": "markdown",
   "id": "04ebf709",
   "metadata": {},
   "source": [
    "# Tmp"
   ]
  }
 ],
 "metadata": {
  "kernelspec": {
   "display_name": "Java11",
   "language": "java",
   "name": "java"
  },
  "language_info": {
   "codemirror_mode": "text/x-java",
   "file_extension": ".java",
   "mimetype": "",
   "name": "Java",
   "nbconverter_exporter": "",
   "version": "11.0.1"
  },
  "toc": {
   "base_numbering": 1,
   "nav_menu": {},
   "number_sections": false,
   "sideBar": false,
   "skip_h1_title": false,
   "title_cell": "Table of Contents",
   "title_sidebar": "Contents",
   "toc_cell": false,
   "toc_position": {},
   "toc_section_display": false,
   "toc_window_display": false
  }
 },
 "nbformat": 4,
 "nbformat_minor": 5
}
